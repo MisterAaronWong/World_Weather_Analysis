{
 "cells": [
  {
   "cell_type": "code",
   "execution_count": 1,
   "id": "5abfabbd",
   "metadata": {},
   "outputs": [],
   "source": [
    "# Import the random module.\n",
    "import random"
   ]
  },
  {
   "cell_type": "code",
   "execution_count": 2,
   "id": "3b2befc3",
   "metadata": {},
   "outputs": [
    {
     "data": {
      "text/plain": [
       "-13"
      ]
     },
     "execution_count": 2,
     "metadata": {},
     "output_type": "execute_result"
    }
   ],
   "source": [
    "random.randint(-90, 90)"
   ]
  },
  {
   "cell_type": "code",
   "execution_count": 3,
   "id": "f4d5e1ef",
   "metadata": {},
   "outputs": [
    {
     "data": {
      "text/plain": [
       "0.928152280836931"
      ]
     },
     "execution_count": 3,
     "metadata": {},
     "output_type": "execute_result"
    }
   ],
   "source": [
    "random.random()"
   ]
  },
  {
   "cell_type": "code",
   "execution_count": 7,
   "id": "921077ff",
   "metadata": {},
   "outputs": [
    {
     "data": {
      "text/plain": [
       "13.441554603714545"
      ]
     },
     "execution_count": 7,
     "metadata": {},
     "output_type": "execute_result"
    }
   ],
   "source": [
    "random_number = random.randint(-90,89) + random.random()\n",
    "random_number"
   ]
  },
  {
   "cell_type": "code",
   "execution_count": 8,
   "id": "f15679e7",
   "metadata": {},
   "outputs": [],
   "source": [
    "x = 1\n",
    "latitudes = []\n",
    "while x < 11:\n",
    "    random_lat = random.randint(-90, 89) + random.random()\n",
    "    latitudes.append(random_lat)\n",
    "    x += 1"
   ]
  },
  {
   "cell_type": "code",
   "execution_count": 9,
   "id": "f1f1a2d5",
   "metadata": {},
   "outputs": [
    {
     "data": {
      "text/plain": [
       "[63.768405791406785,\n",
       " 10.15749367332787,\n",
       " 22.81090518392288,\n",
       " -32.627789436132765,\n",
       " 14.868706018822186,\n",
       " -12.718453782206291,\n",
       " 58.53858265317913,\n",
       " 46.32675142823204,\n",
       " 3.867384373214997,\n",
       " -59.273009008892615]"
      ]
     },
     "execution_count": 9,
     "metadata": {},
     "output_type": "execute_result"
    }
   ],
   "source": [
    "latitudes"
   ]
  },
  {
   "cell_type": "code",
   "execution_count": 10,
   "id": "e6a54903",
   "metadata": {},
   "outputs": [
    {
     "data": {
      "text/plain": [
       "-73"
      ]
     },
     "execution_count": 10,
     "metadata": {},
     "output_type": "execute_result"
    }
   ],
   "source": [
    "random.randrange(-90,90, step=1)"
   ]
  },
  {
   "cell_type": "code",
   "execution_count": 11,
   "id": "bc2e8fbf",
   "metadata": {},
   "outputs": [
    {
     "data": {
      "text/plain": [
       "-39"
      ]
     },
     "execution_count": 11,
     "metadata": {},
     "output_type": "execute_result"
    }
   ],
   "source": [
    "random.randrange(-90,90, step=3)"
   ]
  },
  {
   "cell_type": "code",
   "execution_count": 12,
   "id": "9da1fc2b",
   "metadata": {},
   "outputs": [
    {
     "data": {
      "text/plain": [
       "43.93954080338668"
      ]
     },
     "execution_count": 12,
     "metadata": {},
     "output_type": "execute_result"
    }
   ],
   "source": [
    "random.uniform(-90,90)"
   ]
  },
  {
   "cell_type": "code",
   "execution_count": 13,
   "id": "7dc039f4",
   "metadata": {},
   "outputs": [],
   "source": [
    "# Import the NumPy module.\n",
    "import numpy as np"
   ]
  },
  {
   "cell_type": "code",
   "execution_count": 14,
   "id": "d6f33496",
   "metadata": {},
   "outputs": [
    {
     "data": {
      "text/plain": [
       "0.2993950418603504"
      ]
     },
     "execution_count": 14,
     "metadata": {},
     "output_type": "execute_result"
    }
   ],
   "source": [
    "np.random.uniform(-90.000, 90.000)"
   ]
  },
  {
   "cell_type": "code",
   "execution_count": 16,
   "id": "acc98339",
   "metadata": {},
   "outputs": [
    {
     "data": {
      "text/plain": [
       "-69.42530713309326"
      ]
     },
     "execution_count": 16,
     "metadata": {},
     "output_type": "execute_result"
    }
   ],
   "source": [
    "# Another way to run the above\n",
    "np.random.uniform(low=-90, high=90)"
   ]
  },
  {
   "cell_type": "code",
   "execution_count": 17,
   "id": "6ed515a8",
   "metadata": {},
   "outputs": [
    {
     "data": {
      "text/plain": [
       "array([-24.53237758, -64.4728759 ,  82.62630881, -28.02304045,\n",
       "        49.14414495, -88.16186681, -29.44363859, -64.65539302,\n",
       "        32.13386237,  -7.04478481,  12.4003526 ,  -0.44769189,\n",
       "        35.6245004 , -38.6630765 ,  -3.11177647,  31.99311063,\n",
       "        41.50771034,  46.82469204, -63.01664499,  46.01116442,\n",
       "        33.23624771,  49.90503835, -33.01704413,  80.70067534,\n",
       "       -82.243932  , -59.77154495, -48.16357192,  71.99711702,\n",
       "        86.33610996, -46.51547234, -58.14007368, -49.7403523 ,\n",
       "       -81.38489327,  69.43765157, -84.50843867,  45.62470865,\n",
       "       -79.87586773, -54.47713421, -65.86221798, -74.69981098,\n",
       "       -31.0029534 ,  33.0260743 , -44.908128  ,  31.04314034,\n",
       "        31.01585138,  62.99943925, -87.47984469,  60.55465807,\n",
       "       -22.90924502, -73.2313773 ])"
      ]
     },
     "execution_count": 17,
     "metadata": {},
     "output_type": "execute_result"
    }
   ],
   "source": [
    "np.random.uniform(-90.000, 90.000, size=50)"
   ]
  },
  {
   "cell_type": "code",
   "execution_count": 18,
   "id": "14000a4f",
   "metadata": {},
   "outputs": [],
   "source": [
    "# Import timeit.\n",
    "import timeit"
   ]
  },
  {
   "cell_type": "code",
   "execution_count": 19,
   "id": "c7734337",
   "metadata": {},
   "outputs": [
    {
     "name": "stdout",
     "output_type": "stream",
     "text": [
      "14.3 µs ± 45 ns per loop (mean ± std. dev. of 7 runs, 100000 loops each)\n"
     ]
    }
   ],
   "source": [
    "%timeit np.random.uniform(-90.000, 90.000, size=1500)"
   ]
  },
  {
   "cell_type": "code",
   "execution_count": 20,
   "id": "7e58136b",
   "metadata": {},
   "outputs": [
    {
     "name": "stdout",
     "output_type": "stream",
     "text": [
      "1.8 ms ± 3.69 µs per loop (mean ± std. dev. of 7 runs, 1000 loops each)\n"
     ]
    }
   ],
   "source": [
    "def latitudes(size):\n",
    "    latitudes = []\n",
    "    x = 0\n",
    "    while x < (size):\n",
    "        random_lat = random.randint(-90, 90) + random.random()\n",
    "        latitudes.append(random_lat)\n",
    "        x += 1\n",
    "    return latitudes\n",
    "# Call the function with 1500.\n",
    "%timeit latitudes(1500)"
   ]
  },
  {
   "cell_type": "code",
   "execution_count": null,
   "id": "9326cc59",
   "metadata": {},
   "outputs": [],
   "source": [
    "# Skill drill 6.1.4 - Refactor the code for the while loop with the %timeit magic command and write a for loop that will generate the 1,500 latitudes\n"
   ]
  },
  {
   "cell_type": "code",
   "execution_count": null,
   "id": "2ac8a70b",
   "metadata": {},
   "outputs": [],
   "source": []
  }
 ],
 "metadata": {
  "kernelspec": {
   "display_name": "PythonData",
   "language": "python",
   "name": "pythondata"
  },
  "language_info": {
   "codemirror_mode": {
    "name": "ipython",
    "version": 3
   },
   "file_extension": ".py",
   "mimetype": "text/x-python",
   "name": "python",
   "nbconvert_exporter": "python",
   "pygments_lexer": "ipython3",
   "version": "3.7.10"
  }
 },
 "nbformat": 4,
 "nbformat_minor": 5
}
